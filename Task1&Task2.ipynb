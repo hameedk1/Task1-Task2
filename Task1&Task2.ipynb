{
  "nbformat": 4,
  "nbformat_minor": 0,
  "metadata": {
    "colab": {
      "provenance": [],
      "authorship_tag": "ABX9TyOBqvX5VS/OlxGzaAFPGjYQ",
      "include_colab_link": true
    },
    "kernelspec": {
      "name": "python3",
      "display_name": "Python 3"
    },
    "language_info": {
      "name": "python"
    }
  },
  "cells": [
    {
      "cell_type": "markdown",
      "metadata": {
        "id": "view-in-github",
        "colab_type": "text"
      },
      "source": [
        "<a href=\"https://colab.research.google.com/github/hameedk1/Task1-Task2/blob/main/Task1%26Task2.ipynb\" target=\"_parent\"><img src=\"https://colab.research.google.com/assets/colab-badge.svg\" alt=\"Open In Colab\"/></a>"
      ]
    },
    {
      "cell_type": "markdown",
      "source": [
        "Write a Python program to sum all the values in a dictionary."
      ],
      "metadata": {
        "id": "EVSODmnv8mKv"
      }
    },
    {
      "cell_type": "code",
      "source": [
        "def sum_dictionary_values(dictionary):\n",
        "  total_sum=sum(dictionary.values())\n",
        "  return total_sum\n",
        "#Sample Dictionary\n",
        "sample_dict={'apple':5,'banana':2,'cherry':8,'date':3}\n",
        "#Calculate the sum of values in the dictionary\n",
        "sum_values=sum_dictionary_values(sample_dict)\n",
        "print(\"Sum of values in the dictionaries:\",sum_values)"
      ],
      "metadata": {
        "colab": {
          "base_uri": "https://localhost:8080/"
        },
        "id": "rj1fqzhF83q3",
        "outputId": "7482fe6e-91ce-4b3f-86ca-8cf3d74b8de9"
      },
      "execution_count": 1,
      "outputs": [
        {
          "output_type": "stream",
          "name": "stdout",
          "text": [
            "Sum of values in the dictionaries: 18\n"
          ]
        }
      ]
    },
    {
      "cell_type": "markdown",
      "source": [
        "\n",
        "Create Numbers divisible by 7 and multiples of 5"
      ],
      "metadata": {
        "id": "USX4XHXH9AGG"
      }
    },
    {
      "cell_type": "code",
      "source": [
        "def find_numbers():\n",
        "  try:\n",
        "    n=int(input(\"Enter the maximum number to check: \"))\n",
        "    numbers=[num for num in range(1, n+1) if num % 7 == 0 and num % 5 == 0]\n",
        "    if numbers:\n",
        "      print(\"Numbers divisible by 7 and multiples 5 :\")\n",
        "      print(numbers)\n",
        "    else:\n",
        "        print(\"No numbers found\")\n",
        "  except ValueError:\n",
        "    print(\"Invalid input. Please enter a valid\")\n",
        "find_numbers()"
      ],
      "metadata": {
        "colab": {
          "base_uri": "https://localhost:8080/"
        },
        "id": "XMHSGPph9MNh",
        "outputId": "bab96ba5-60c2-4f2b-e054-97841784ea0d"
      },
      "execution_count": 2,
      "outputs": [
        {
          "output_type": "stream",
          "name": "stdout",
          "text": [
            "Enter the maximum number to check: 49\n",
            "Numbers divisible by 7 and multiples 5 :\n",
            "[35]\n"
          ]
        }
      ]
    },
    {
      "cell_type": "markdown",
      "source": [
        "Print decimal part of an input number. If the decimal part is zero print the string : “INTEGER”\n"
      ],
      "metadata": {
        "id": "G9d9NmLo9d_e"
      }
    },
    {
      "cell_type": "code",
      "source": [
        "def print_decimal_part():\n",
        "  try:\n",
        "    num=float(input(\"Enter a number.\"))\n",
        "    decimal_part=str(num).split('.')[1] if '.' in str(num) else '0'\n",
        "    if decimal_part=='0':\n",
        "      print(\"INTEGER\")\n",
        "    else:\n",
        "      print(\"Decimal part:\",decimal_part)\n",
        "  except ValueError:\n",
        "        print(\"Invalid input. Please enter a valid number.\")\n",
        "print_decimal_part()"
      ],
      "metadata": {
        "colab": {
          "base_uri": "https://localhost:8080/"
        },
        "id": "X-uGS0AD9wRq",
        "outputId": "db160eb1-8013-4fcd-90f7-3224ffd6d905"
      },
      "execution_count": 3,
      "outputs": [
        {
          "output_type": "stream",
          "name": "stdout",
          "text": [
            "Enter a number.12.56\n",
            "Decimal part: 56\n"
          ]
        }
      ]
    },
    {
      "cell_type": "markdown",
      "source": [
        "Write a Python a program to find the union and intersection of two lists."
      ],
      "metadata": {
        "id": "kkawy4ft99xx"
      }
    },
    {
      "cell_type": "code",
      "source": [
        "def find_union(list1,list2):\n",
        "#union : Combine both lists and remove duplicates\n",
        "  union_list=list(set(list1+list2))\n",
        "  return union_list\n",
        "def find_intersection(list1,list2):\n",
        "# Intersection: Find common elements between both lists\n",
        "    intersection_list = [elem for elem in list1 if elem in list2]\n",
        "    return intersection_list\n",
        "# Sample lists\n",
        "list1 = [1, 2, 3, 4, 5]\n",
        "list2 = [3, 4, 5, 6, 7]\n",
        "# Find and print the union of list1 and list2\n",
        "union_result=find_union(list1,list2)\n",
        "print(\"Union of the list1 and list2:\",union_result)\n",
        "# Find and print the intersection of list1 and list2\n",
        "intersection_result=find_intersection(list1,list2)\n",
        "print(\"Intersection of list1 and list2:\",intersection_result)"
      ],
      "metadata": {
        "colab": {
          "base_uri": "https://localhost:8080/"
        },
        "id": "t8QOii2C-Hda",
        "outputId": "bf23c560-7313-4e19-f927-51c6c9648f6a"
      },
      "execution_count": 4,
      "outputs": [
        {
          "output_type": "stream",
          "name": "stdout",
          "text": [
            "Union of the list1 and list2: [1, 2, 3, 4, 5, 6, 7]\n",
            "Intersection of list1 and list2: [3, 4, 5]\n"
          ]
        }
      ]
    },
    {
      "cell_type": "markdown",
      "source": [
        "Write a Python program to check if a list is a palindrome or not. Return true otherwise false"
      ],
      "metadata": {
        "id": "ngpMjsIn-P-g"
      }
    },
    {
      "cell_type": "code",
      "source": [
        "def is_palindrome(lst):\n",
        "#Compare the list with its reverse\n",
        "  return lst==lst[::-1]\n",
        "# Test cases\n",
        "list1= [1, 2, 3, 4, 3, 2, 1]\n",
        "list2 = [1, 2, 3, 4, 5]\n",
        "# Check if list1 is a palindrome\n",
        "print(\"List is a palindrome:\",is_palindrome(list1))\n",
        "# Check if list2 is a palindrome\n",
        "print(\"List 2 is a palindrome:\",is_palindrome(list2))"
      ],
      "metadata": {
        "colab": {
          "base_uri": "https://localhost:8080/"
        },
        "id": "W6iNkMu8-V5S",
        "outputId": "acc0d76b-13b4-440a-da3a-c3f818f4f63b"
      },
      "execution_count": 5,
      "outputs": [
        {
          "output_type": "stream",
          "name": "stdout",
          "text": [
            "List is a palindrome: True\n",
            "List 2 is a palindrome: False\n"
          ]
        }
      ]
    },
    {
      "cell_type": "markdown",
      "source": [
        "Write a Python program to check if a list is empty or not"
      ],
      "metadata": {
        "id": "XywzOqSo-bZK"
      }
    },
    {
      "cell_type": "code",
      "source": [
        "# Define an empty list\n",
        "empty_list=[]\n",
        "# Check if the list is empty\n",
        "if not empty_list:\n",
        "  print(\"The list is empty\")\n",
        "else:\n",
        "  print(\"The list is not empty\")"
      ],
      "metadata": {
        "colab": {
          "base_uri": "https://localhost:8080/"
        },
        "id": "uilHQ9X1-kyS",
        "outputId": "56830cfd-438b-4288-e255-bf0512521fee"
      },
      "execution_count": 6,
      "outputs": [
        {
          "output_type": "stream",
          "name": "stdout",
          "text": [
            "The list is empty\n"
          ]
        }
      ]
    },
    {
      "cell_type": "markdown",
      "source": [
        "Write a Python program to count the number of strings from a given list of strings. The string length is 2 or more and the first and last characters are the same."
      ],
      "metadata": {
        "id": "ogVZS22N-qDs"
      }
    },
    {
      "cell_type": "code",
      "source": [
        "# Define a list of String\n",
        "strings=['level','python','noon','radar','hello','wow']\n",
        "# Initialize variable to count matching strings\n",
        "count=0\n",
        "# Iterate through the list of strings\n",
        "# Check if the string length is 2 or more and the first and last characters are the same\n",
        "for s in strings:\n",
        "  if len(s)>=2 and s[0]== s[-1]:\n",
        "    count+=1 # increment the count if the condition is  met\n",
        "# Print the count of matching strings\n",
        "print(\"Number of strings meeting the condition:\",count)"
      ],
      "metadata": {
        "colab": {
          "base_uri": "https://localhost:8080/"
        },
        "id": "s-_0QfBi-3qB",
        "outputId": "9da37947-012f-4d1a-c0b2-c5cb8de5c600"
      },
      "execution_count": 7,
      "outputs": [
        {
          "output_type": "stream",
          "name": "stdout",
          "text": [
            "Number of strings meeting the condition: 4\n"
          ]
        }
      ]
    },
    {
      "cell_type": "markdown",
      "source": [
        "Write a Python program to create a dictionary with a number and its corresponding square from 1 to input number. And also check if the input number is less than 10"
      ],
      "metadata": {
        "id": "3qcr48jI-83r"
      }
    },
    {
      "cell_type": "code",
      "source": [
        "def create_square_dict(n):\n",
        "  if n<10:\n",
        "    square_dict={num:num**2 for num in range(1,n+1)}\n",
        "    return square_dict\n",
        "  else:\n",
        "    return None\n",
        "# Get input from the user\n",
        "input_number=int(input(\"Enter a number(Less than 10):\"))\n",
        "# Check if input is less than 10 and create the dictionary\n",
        "result_dict=create_square_dict(input_number)\n",
        "if result_dict:\n",
        "  print(\"Dictionary with number and its square;\")\n",
        "  print(result_dict)\n",
        "else:\n",
        "  print(\"Input number should be less than 0\")"
      ],
      "metadata": {
        "colab": {
          "base_uri": "https://localhost:8080/"
        },
        "id": "qVVho2zc_BhL",
        "outputId": "bf5c07d3-57a6-4524-f992-c405268ad4cd"
      },
      "execution_count": 8,
      "outputs": [
        {
          "output_type": "stream",
          "name": "stdout",
          "text": [
            "Enter a number(Less than 10):9\n",
            "Dictionary with number and its square;\n",
            "{1: 1, 2: 4, 3: 9, 4: 16, 5: 25, 6: 36, 7: 49, 8: 64, 9: 81}\n"
          ]
        }
      ]
    },
    {
      "cell_type": "markdown",
      "source": [
        "Write a Python program to filter the list if the length of the character is < 4\n"
      ],
      "metadata": {
        "id": "KvLhuFjV_JvS"
      }
    },
    {
      "cell_type": "code",
      "source": [
        "# Define a list of string\n",
        "my_list=['apple', 'banana', 'pear', 'kiw', 'orange', 'grape']\n",
        "# Filter the list based on the length of charecters\n",
        "filtered_list= [x for x in my_list if len(x)<4]\n",
        "# Print the original list and filtered list\n",
        "print(\"Original List:\",my_list)\n",
        "print(\"Filterd List (Length<4):\",filtered_list)"
      ],
      "metadata": {
        "colab": {
          "base_uri": "https://localhost:8080/"
        },
        "id": "PnTBIky4_Wrc",
        "outputId": "d3f8676b-86e8-4233-f4b4-0780ec267ad5"
      },
      "execution_count": 9,
      "outputs": [
        {
          "output_type": "stream",
          "name": "stdout",
          "text": [
            "Original List: ['apple', 'banana', 'pear', 'kiw', 'orange', 'grape']\n",
            "Filterd List (Length<4): ['kiw']\n"
          ]
        }
      ]
    },
    {
      "cell_type": "markdown",
      "source": [
        "Write a Python program to find the second largest number in a list"
      ],
      "metadata": {
        "id": "W0G59IgC_ajF"
      }
    },
    {
      "cell_type": "code",
      "source": [
        "# Define list of numbers\n",
        "numbers=[10,20,30,40,50]\n",
        "# Sort the list in descending order\n",
        "sorted_numbers= sorted(numbers,reverse=True)\n",
        "# Get the second largest number(index 1 after sorting)\n",
        "second_largest=sorted_numbers[1] if len(sorted_numbers)>1 else None\n",
        "#print the original list and second largest number\n",
        "print(\"Original List:\",numbers)\n",
        "print(\"Second Largest Number:\",second_largest)"
      ],
      "metadata": {
        "colab": {
          "base_uri": "https://localhost:8080/"
        },
        "id": "qGBi44Ts_frl",
        "outputId": "870fd8ad-228f-4622-e079-5a6a464aa719"
      },
      "execution_count": 10,
      "outputs": [
        {
          "output_type": "stream",
          "name": "stdout",
          "text": [
            "Original List: [10, 20, 30, 40, 50]\n",
            "Second Largest Number: 40\n"
          ]
        }
      ]
    },
    {
      "cell_type": "markdown",
      "source": [
        "Create Write a Python program to get the largest number from a list"
      ],
      "metadata": {
        "id": "0UTK_G7U_oM-"
      }
    },
    {
      "cell_type": "code",
      "source": [
        "# Define a list of numbers\n",
        "numbers = [10, 5, 20, 15, 30, 25]\n",
        "\n",
        "# Initialize a variable to hold the largest number\n",
        "largest = numbers[0]  # Assume the first number is the largest initially\n",
        "\n",
        "# Iterate through the list to find the largest number\n",
        "for num in numbers:\n",
        "    if num > largest:\n",
        "        largest = num\n",
        "\n",
        "# Print the largest number\n",
        "print(\"The largest number in the list is:\", largest)"
      ],
      "metadata": {
        "colab": {
          "base_uri": "https://localhost:8080/"
        },
        "id": "0uP6R4hb_wHn",
        "outputId": "96a3e271-623b-4f7b-d823-1073f37b34f3"
      },
      "execution_count": 11,
      "outputs": [
        {
          "output_type": "stream",
          "name": "stdout",
          "text": [
            "The largest number in the list is: 30\n"
          ]
        }
      ]
    },
    {
      "cell_type": "markdown",
      "source": [
        "Write a Python program to remove duplicates from a list"
      ],
      "metadata": {
        "id": "dwHLCExc_2X_"
      }
    },
    {
      "cell_type": "code",
      "source": [
        "# Define a list with duplicates\n",
        "my_list=[1, 2, 3, 4, 2, 3, 5, 6, 1, 7, 8, 9, 9]\n",
        "# Use set() to remove duplicates\n",
        "unique_list=list(set(my_list))\n",
        "print(\"Original List\",my_list)\n",
        "print(\"List without duplicates\",unique_list)"
      ],
      "metadata": {
        "colab": {
          "base_uri": "https://localhost:8080/"
        },
        "id": "5YrSvXZV__mG",
        "outputId": "30cdbeca-ba5f-454f-8688-6cb298384071"
      },
      "execution_count": 12,
      "outputs": [
        {
          "output_type": "stream",
          "name": "stdout",
          "text": [
            "Original List [1, 2, 3, 4, 2, 3, 5, 6, 1, 7, 8, 9, 9]\n",
            "List without duplicates [1, 2, 3, 4, 5, 6, 7, 8, 9]\n"
          ]
        }
      ]
    },
    {
      "cell_type": "markdown",
      "source": [
        "Write a Python program to reverse a list at a specific location"
      ],
      "metadata": {
        "id": "5IcFSYklAFcN"
      }
    },
    {
      "cell_type": "code",
      "source": [
        "def reverse_list_at_index(lst, index):\n",
        "    # Check if index is within the range of the list\n",
        "    if index < 0 or index >= len(lst):\n",
        "        print(\"Error: Index out of range\")\n",
        "        return lst  # Return the original list if index is out of range\n",
        "\n",
        "    # Split the list into two parts: before and after the index\n",
        "    part1 = lst[:index]  # Elements before the index\n",
        "    part2 = lst[index:]  # Elements from the index onwards\n",
        "\n",
        "    # Reverse the second part (part2)\n",
        "    reversed_part2 = part2[::-1]\n",
        "\n",
        "    # Concatenate the reversed second part (reversed_part2) with the first part (part1)\n",
        "    reversed_list = part1 + reversed_part2\n",
        "\n",
        "    return reversed_list\n",
        "\n",
        "# Define a list\n",
        "my_list = [1, 2, 3, 4, 5, 6, 7, 8, 9, 10]\n",
        "\n",
        "# Specify the index at which to reverse the list\n",
        "reverse_index = 3\n",
        "\n",
        "# Reverse the list at the specified index\n",
        "result_list = reverse_list_at_index(my_list, reverse_index)\n",
        "\n",
        "# Print the original list and the reversed list\n",
        "print(\"Original list:\", my_list)\n",
        "print(f\"Reversed list at index {reverse_index}:\", result_list)"
      ],
      "metadata": {
        "colab": {
          "base_uri": "https://localhost:8080/"
        },
        "id": "kMlw8nSsALaZ",
        "outputId": "d109f6ab-6da0-45bc-8102-09fcc6fb27c5"
      },
      "execution_count": 13,
      "outputs": [
        {
          "output_type": "stream",
          "name": "stdout",
          "text": [
            "Original list: [1, 2, 3, 4, 5, 6, 7, 8, 9, 10]\n",
            "Reversed list at index 3: [1, 2, 3, 10, 9, 8, 7, 6, 5, 4]\n"
          ]
        }
      ]
    },
    {
      "cell_type": "markdown",
      "source": [
        "Write a Python program to sort a given dictionary by key."
      ],
      "metadata": {
        "id": "ALuQT3QgAQ3n"
      }
    },
    {
      "cell_type": "code",
      "source": [
        "def sort_dict_by_key(input_dict):\n",
        "  sorted_dict=dict(sorted(input_dict.items()))\n",
        "  return sorted_dict\n",
        "# Sample dictionary\n",
        "sample_dict = {'banana': 2, 'apple': 5, 'cherry': 8, 'date': 3}\n",
        "#Sort the dictionary by key\n",
        "sorted_dict=sort_dict_by_key(sample_dict)\n",
        "print(\"Original Dictionary:\",sample_dict)\n",
        "print(\"Sorted Dictionaryby key:\",sorted_dict)"
      ],
      "metadata": {
        "colab": {
          "base_uri": "https://localhost:8080/"
        },
        "id": "NzpFJqxjAXxw",
        "outputId": "f8206356-883c-402b-b3cb-9840e26b4c34"
      },
      "execution_count": 14,
      "outputs": [
        {
          "output_type": "stream",
          "name": "stdout",
          "text": [
            "Original Dictionary: {'banana': 2, 'apple': 5, 'cherry': 8, 'date': 3}\n",
            "Sorted Dictionaryby key: {'apple': 5, 'banana': 2, 'cherry': 8, 'date': 3}\n"
          ]
        }
      ]
    },
    {
      "cell_type": "markdown",
      "source": [
        "Write a Python program to sum all the items in a list."
      ],
      "metadata": {
        "id": "B9hRZAPXAc6P"
      }
    },
    {
      "cell_type": "code",
      "source": [
        "# Define a List of Numbers\n",
        "numbers=[10,20,30,40,50]\n",
        "#Initialize a variable to hold the sum\n",
        "total_sum=0\n",
        "# Iterate through the list and each number to the sum\n",
        "for num in numbers:\n",
        "  total_sum+= num\n",
        "#print the total sum\n",
        "print(\"The sum of all items in the list is :\",total_sum)"
      ],
      "metadata": {
        "colab": {
          "base_uri": "https://localhost:8080/"
        },
        "id": "uB5LWvu6Aib4",
        "outputId": "5176babf-8acb-44df-a325-e4a39117d11a"
      },
      "execution_count": 15,
      "outputs": [
        {
          "output_type": "stream",
          "name": "stdout",
          "text": [
            "The sum of all items in the list is : 150\n"
          ]
        }
      ]
    },
    {
      "cell_type": "markdown",
      "source": [
        "Write a Python script to check whether a given key already exists in a dictionary"
      ],
      "metadata": {
        "id": "6o_xRLDhAmkh"
      }
    },
    {
      "cell_type": "code",
      "source": [
        "def check_key_exists(dictionary, key):\n",
        "    if key in dictionary:\n",
        "        return True\n",
        "    else:\n",
        "        return False\n",
        "\n",
        "# Sample dictionary\n",
        "sample_dict = {'apple': 5, 'banana': 2, 'cherry': 8, 'date': 3}\n",
        "\n",
        "# Key to check\n",
        "key_to_check = 'banana'\n",
        "\n",
        "# Check if key exists in the dictionary\n",
        "if check_key_exists(sample_dict, key_to_check):\n",
        "    print(f\"The key '{key_to_check}' exists in the dictionary.\")\n",
        "else:\n",
        "    print(f\"The key '{key_to_check}' does not exist in the dictionary.\")"
      ],
      "metadata": {
        "colab": {
          "base_uri": "https://localhost:8080/"
        },
        "id": "lDpkbqK-Ax2n",
        "outputId": "748e9b83-76d2-4de2-f404-6775a2de015d"
      },
      "execution_count": 16,
      "outputs": [
        {
          "output_type": "stream",
          "name": "stdout",
          "text": [
            "The key 'banana' exists in the dictionary.\n"
          ]
        }
      ]
    },
    {
      "cell_type": "markdown",
      "source": [
        "Write a Python script to sort (ascending and descending) a dictionary by value\n"
      ],
      "metadata": {
        "id": "7ghzxzSUA0SV"
      }
    },
    {
      "cell_type": "code",
      "source": [
        "# Sample Dictionary\n",
        "sample_dict={'apple':5, 'banana':2,'cherry':8,'date':3}\n",
        "#sort the dictionary in ascending order by value\n",
        "sorted_asc=dict(sorted(sample_dict.items(),key=lambda x:x[1]))\n",
        "#sort the dictionary in desending order by value\n",
        "sorted_desc=dict(sorted(sample_dict.items(),key=lambda x:x[1],reverse=True))\n",
        "#Print the sorted dictionaries\n",
        "print(\"Sorted in ascending order:\",sorted_asc)\n",
        "print(\"Sorted in descending order:\",sorted_desc)"
      ],
      "metadata": {
        "colab": {
          "base_uri": "https://localhost:8080/"
        },
        "id": "v7SHxkj9A6Vn",
        "outputId": "ea7b53fd-2f74-4c6b-d2b1-3410d8ff64b1"
      },
      "execution_count": 17,
      "outputs": [
        {
          "output_type": "stream",
          "name": "stdout",
          "text": [
            "Sorted in ascending order: {'banana': 2, 'date': 3, 'apple': 5, 'cherry': 8}\n",
            "Sorted in descending order: {'cherry': 8, 'apple': 5, 'date': 3, 'banana': 2}\n"
          ]
        }
      ]
    },
    {
      "cell_type": "markdown",
      "source": [
        "python program to check the user input is even or odd or zero."
      ],
      "metadata": {
        "id": "s0zXfOt0A-ww"
      }
    },
    {
      "cell_type": "code",
      "source": [
        "def check_number():\n",
        "    try:\n",
        "        num = int(input(\"Enter a number: \"))\n",
        "        if num == 0:\n",
        "            print(\"The number is zero.\")\n",
        "        elif num % 2 == 0:\n",
        "            print(\"The number is even.\")\n",
        "        else:\n",
        "            print(\"The number is odd.\")\n",
        "    except ValueError:\n",
        "        print(\"Invalid input. Please enter a valid integer.\")\n",
        "\n",
        "check_number()"
      ],
      "metadata": {
        "colab": {
          "base_uri": "https://localhost:8080/"
        },
        "id": "CHtCRmu3BGGZ",
        "outputId": "837bdb38-bec9-4034-d0ac-949e56c6b29c"
      },
      "execution_count": 18,
      "outputs": [
        {
          "output_type": "stream",
          "name": "stdout",
          "text": [
            "Enter a number: 10\n",
            "The number is even.\n"
          ]
        }
      ]
    }
  ]
}